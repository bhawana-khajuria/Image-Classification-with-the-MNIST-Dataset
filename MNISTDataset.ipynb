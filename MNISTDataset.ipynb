{
  "nbformat": 4,
  "nbformat_minor": 0,
  "metadata": {
    "colab": {
      "provenance": [],
      "authorship_tag": "ABX9TyO51vB7ti6Jwn+27eX2z1Y0",
      "include_colab_link": true
    },
    "kernelspec": {
      "name": "python3",
      "display_name": "Python 3"
    },
    "language_info": {
      "name": "python"
    }
  },
  "cells": [
    {
      "cell_type": "markdown",
      "metadata": {
        "id": "view-in-github",
        "colab_type": "text"
      },
      "source": [
        "<a href=\"https://colab.research.google.com/github/bhawana-khajuria/Image-Classification-with-the-MNIST-Dataset/blob/main/MNISTDataset.ipynb\" target=\"_parent\"><img src=\"https://colab.research.google.com/assets/colab-badge.svg\" alt=\"Open In Colab\"/></a>"
      ]
    },
    {
      "cell_type": "markdown",
      "source": [
        "## Image Classification with the MNIST Dataset"
      ],
      "metadata": {
        "id": "Rn0XmLkpIm-V"
      }
    },
    {
      "cell_type": "code",
      "execution_count": 1,
      "metadata": {
        "id": "BWb-hXGKIhz4"
      },
      "outputs": [],
      "source": [
        "import torch\n",
        "import torch.nn as nn\n",
        "from torch.utils.data import Dataset, DataLoader\n",
        "from torch.optim import Adam\n",
        "\n",
        "# Visualization tools\n",
        "import torchvision\n",
        "import torchvision.transforms.v2 as transforms\n",
        "import torchvision.transforms.functional as F\n",
        "import matplotlib.pyplot as plt"
      ]
    },
    {
      "cell_type": "markdown",
      "source": [],
      "metadata": {
        "id": "93beBqbcJJ4f"
      }
    },
    {
      "cell_type": "code",
      "source": [
        "device = torch.device(\"cuda\" if torch.cuda.is_available() else \"cpu\")\n",
        "torch.cuda.is_available()"
      ],
      "metadata": {
        "colab": {
          "base_uri": "https://localhost:8080/"
        },
        "id": "pxZ3VKVgJKP7",
        "outputId": "63b9e95d-ac85-4ff5-824a-77ff956196bb"
      },
      "execution_count": 2,
      "outputs": [
        {
          "output_type": "execute_result",
          "data": {
            "text/plain": [
              "False"
            ]
          },
          "metadata": {},
          "execution_count": 2
        }
      ]
    },
    {
      "cell_type": "markdown",
      "source": [
        "## Training and Validation Data and Labels\n",
        "1. x_train: Images used for training the neural network\n",
        "2. y_train: Correct labels for the x_train images, used to evaluate the model's predictions during training\n",
        "3. x_valid: Images set aside for validating the performance of the model after it has been trained\n",
        "4. y_valid: Correct labels for the x_valid images, used to evaluate the model's predictions after it has been trained"
      ],
      "metadata": {
        "id": "48VfI0nCJKc5"
      }
    },
    {
      "cell_type": "markdown",
      "source": [
        "### Loading the Data Into Memory (with TorchVision)"
      ],
      "metadata": {
        "id": "GKWYau--J5XT"
      }
    },
    {
      "cell_type": "code",
      "source": [
        "train_set = torchvision.datasets.MNIST(\"./data/\", train=True, download=True)\n",
        "valid_set = torchvision.datasets.MNIST(\"./data/\", train=False, download=True)"
      ],
      "metadata": {
        "colab": {
          "base_uri": "https://localhost:8080/"
        },
        "id": "iHZSGQ2NJKqF",
        "outputId": "013800a2-48d7-41b0-e581-1c9726b771b3"
      },
      "execution_count": 3,
      "outputs": [
        {
          "output_type": "stream",
          "name": "stderr",
          "text": [
            "100%|██████████| 9.91M/9.91M [00:00<00:00, 20.2MB/s]\n",
            "100%|██████████| 28.9k/28.9k [00:00<00:00, 603kB/s]\n",
            "100%|██████████| 1.65M/1.65M [00:00<00:00, 5.68MB/s]\n",
            "100%|██████████| 4.54k/4.54k [00:00<00:00, 4.91MB/s]\n"
          ]
        }
      ]
    },
    {
      "cell_type": "code",
      "source": [
        "train_set"
      ],
      "metadata": {
        "colab": {
          "base_uri": "https://localhost:8080/"
        },
        "id": "c6Y8NH3mJLHb",
        "outputId": "ad6dfe24-9b3f-484d-c3e1-9346c59a95e0"
      },
      "execution_count": 4,
      "outputs": [
        {
          "output_type": "execute_result",
          "data": {
            "text/plain": [
              "Dataset MNIST\n",
              "    Number of datapoints: 60000\n",
              "    Root location: ./data/\n",
              "    Split: Train"
            ]
          },
          "metadata": {},
          "execution_count": 4
        }
      ]
    },
    {
      "cell_type": "code",
      "source": [
        "valid_set"
      ],
      "metadata": {
        "colab": {
          "base_uri": "https://localhost:8080/"
        },
        "id": "mqavULvbKIEj",
        "outputId": "c8dd318e-d9e5-4a13-8e3e-04e0156ee34b"
      },
      "execution_count": 5,
      "outputs": [
        {
          "output_type": "execute_result",
          "data": {
            "text/plain": [
              "Dataset MNIST\n",
              "    Number of datapoints: 10000\n",
              "    Root location: ./data/\n",
              "    Split: Test"
            ]
          },
          "metadata": {},
          "execution_count": 5
        }
      ]
    },
    {
      "cell_type": "markdown",
      "source": [
        " ## Exploring the MNIST Data"
      ],
      "metadata": {
        "id": "d12PPXrBKdCj"
      }
    },
    {
      "cell_type": "code",
      "source": [
        "x_0, y_0 = train_set[0]"
      ],
      "metadata": {
        "id": "6kb1nE0yKNqS"
      },
      "execution_count": 6,
      "outputs": []
    },
    {
      "cell_type": "code",
      "source": [
        "x_0"
      ],
      "metadata": {
        "colab": {
          "base_uri": "https://localhost:8080/",
          "height": 45
        },
        "id": "2rAGEGtvKoxr",
        "outputId": "bc7595de-becd-4d2a-da97-4e1a94523304"
      },
      "execution_count": 7,
      "outputs": [
        {
          "output_type": "execute_result",
          "data": {
            "text/plain": [
              "<PIL.Image.Image image mode=L size=28x28>"
            ],
            "image/png": "[encoded data removed]",
            "image/jpeg": "[encoded data removed]"
          },
          "metadata": {},
          "execution_count": 7
        }
      ]
    },
    {
      "cell_type": "code",
      "source": [
        "type(x_0)"
      ],
      "metadata": {
        "colab": {
          "base_uri": "https://localhost:8080/",
          "height": 187
        },
        "id": "y1GIgO4gKo0j",
        "outputId": "5b8b97b6-5f92-4c8d-c7c5-288a62e91f99"
      },
      "execution_count": 8,
      "outputs": [
        {
          "output_type": "execute_result",
          "data": {
            "text/plain": [
              "PIL.Image.Image"
            ],
            "text/html": [
              "<div style=\"max-width:800px; border: 1px solid var(--colab-border-color);\"><style>\n",
              "      pre.function-repr-contents {\n",
              "        overflow-x: auto;\n",
              "        padding: 8px 12px;\n",
              "        max-height: 500px;\n",
              "      }\n",
              "\n",
              "      pre.function-repr-contents.function-repr-contents-collapsed {\n",
              "        cursor: pointer;\n",
              "        max-height: 100px;\n",
              "      }\n",
              "    </style>\n",
              "    <pre style=\"white-space: initial; background:\n",
              "         var(--colab-secondary-surface-color); padding: 8px 12px;\n",
              "         border-bottom: 1px solid var(--colab-border-color);\"><b>PIL.Image.Image</b><br/>def __init__() -&gt; None</pre><pre class=\"function-repr-contents function-repr-contents-collapsed\" style=\"\"><a class=\"filepath\" style=\"display:none\" href=\"#\">/usr/local/lib/python3.11/dist-packages/PIL/Image.py</a>This class represents an image object.  To create\n",
              ":py:class:`~PIL.Image.Image` objects, use the appropriate factory\n",
              "functions.  There&#x27;s hardly ever any reason to call the Image constructor\n",
              "directly.\n",
              "\n",
              "* :py:func:`~PIL.Image.open`\n",
              "* :py:func:`~PIL.Image.new`\n",
              "* :py:func:`~PIL.Image.frombytes`</pre>\n",
              "      <script>\n",
              "      if (google.colab.kernel.accessAllowed && google.colab.files && google.colab.files.view) {\n",
              "        for (const element of document.querySelectorAll('.filepath')) {\n",
              "          element.style.display = 'block'\n",
              "          element.onclick = (event) => {\n",
              "            event.preventDefault();\n",
              "            event.stopPropagation();\n",
              "            google.colab.files.view(element.textContent, 527);\n",
              "          };\n",
              "        }\n",
              "      }\n",
              "      for (const element of document.querySelectorAll('.function-repr-contents')) {\n",
              "        element.onclick = (event) => {\n",
              "          event.preventDefault();\n",
              "          event.stopPropagation();\n",
              "          element.classList.toggle('function-repr-contents-collapsed');\n",
              "        };\n",
              "      }\n",
              "      </script>\n",
              "      </div>"
            ]
          },
          "metadata": {},
          "execution_count": 8
        }
      ]
    },
    {
      "cell_type": "code",
      "source": [
        "y_0"
      ],
      "metadata": {
        "colab": {
          "base_uri": "https://localhost:8080/"
        },
        "id": "jpLXvCCuK0tX",
        "outputId": "e7e8e8f2-2477-4a2d-ade9-9020baf2add1"
      },
      "execution_count": 9,
      "outputs": [
        {
          "output_type": "execute_result",
          "data": {
            "text/plain": [
              "5"
            ]
          },
          "metadata": {},
          "execution_count": 9
        }
      ]
    },
    {
      "cell_type": "code",
      "source": [
        "type(y_0)"
      ],
      "metadata": {
        "colab": {
          "base_uri": "https://localhost:8080/"
        },
        "id": "z8s_ohZ0K7uX",
        "outputId": "596323eb-2322-4e55-e2a0-715c61c97e6c"
      },
      "execution_count": 10,
      "outputs": [
        {
          "output_type": "execute_result",
          "data": {
            "text/plain": [
              "int"
            ]
          },
          "metadata": {},
          "execution_count": 10
        }
      ]
    },
    {
      "cell_type": "markdown",
      "source": [
        "## **Tensors**"
      ],
      "metadata": {
        "id": "fmcI_BO4LYHg"
      }
    },
    {
      "cell_type": "code",
      "source": [
        "trans = transforms.Compose([transforms.ToTensor()])\n",
        "x_0_tensor = trans(x_0)"
      ],
      "metadata": {
        "colab": {
          "base_uri": "https://localhost:8080/"
        },
        "id": "R4g__JfjLAPg",
        "outputId": "20931016-b87c-4daa-8da4-7dd506be8043"
      },
      "execution_count": 11,
      "outputs": [
        {
          "output_type": "stream",
          "name": "stderr",
          "text": [
            "/usr/local/lib/python3.11/dist-packages/torchvision/transforms/v2/_deprecated.py:42: UserWarning: The transform `ToTensor()` is deprecated and will be removed in a future release. Instead, please use `v2.Compose([v2.ToImage(), v2.ToDtype(torch.float32, scale=True)])`.Output is equivalent up to float precision.\n",
            "  warnings.warn(\n"
          ]
        }
      ]
    },
    {
      "cell_type": "code",
      "source": [
        "x_0_tensor.dtype"
      ],
      "metadata": {
        "colab": {
          "base_uri": "https://localhost:8080/"
        },
        "id": "IykYEHh7Ln2F",
        "outputId": "9e4c81a1-6ab4-40bf-97a8-78506ce4ad6c"
      },
      "execution_count": 12,
      "outputs": [
        {
          "output_type": "execute_result",
          "data": {
            "text/plain": [
              "torch.float32"
            ]
          },
          "metadata": {},
          "execution_count": 12
        }
      ]
    },
    {
      "cell_type": "code",
      "source": [
        "x_0_tensor.min()"
      ],
      "metadata": {
        "colab": {
          "base_uri": "https://localhost:8080/"
        },
        "id": "o9xUdkw8L4q_",
        "outputId": "499b2719-1b2d-4a9d-f585-be7b57817de7"
      },
      "execution_count": 13,
      "outputs": [
        {
          "output_type": "execute_result",
          "data": {
            "text/plain": [
              "tensor(0.)"
            ]
          },
          "metadata": {},
          "execution_count": 13
        }
      ]
    },
    {
      "cell_type": "code",
      "source": [
        "\n",
        "x_0_tensor.max()"
      ],
      "metadata": {
        "colab": {
          "base_uri": "https://localhost:8080/"
        },
        "id": "7JqnEx0KMH0H",
        "outputId": "d1504e00-853c-4e93-a5f7-a0574a6daca6"
      },
      "execution_count": 14,
      "outputs": [
        {
          "output_type": "execute_result",
          "data": {
            "text/plain": [
              "tensor(1.)"
            ]
          },
          "metadata": {},
          "execution_count": 14
        }
      ]
    },
    {
      "cell_type": "code",
      "source": [
        "x_0_tensor.size()"
      ],
      "metadata": {
        "colab": {
          "base_uri": "https://localhost:8080/"
        },
        "id": "c3MYPQvdMNfM",
        "outputId": "3fa75bd0-73aa-46b4-bc76-de98c912c6e0"
      },
      "execution_count": 15,
      "outputs": [
        {
          "output_type": "execute_result",
          "data": {
            "text/plain": [
              "torch.Size([1, 28, 28])"
            ]
          },
          "metadata": {},
          "execution_count": 15
        }
      ]
    },
    {
      "cell_type": "code",
      "source": [
        "x_0_tensor"
      ],
      "metadata": {
        "colab": {
          "base_uri": "https://localhost:8080/"
        },
        "id": "F1bEAYidMQvc",
        "outputId": "53e31a19-2364-4e33-c78e-c55ae963c957"
      },
      "execution_count": 16,
      "outputs": [
        {
          "output_type": "execute_result",
          "data": {
            "text/plain": [
              "tensor([[[0.0000, 0.0000, 0.0000, 0.0000, 0.0000, 0.0000, 0.0000, 0.0000,\n",
              "          0.0000, 0.0000, 0.0000, 0.0000, 0.0000, 0.0000, 0.0000, 0.0000,\n",
              "          0.0000, 0.0000, 0.0000, 0.0000, 0.0000, 0.0000, 0.0000, 0.0000,\n",
              "          0.0000, 0.0000, 0.0000, 0.0000],\n",
              "         [0.0000, 0.0000, 0.0000, 0.0000, 0.0000, 0.0000, 0.0000, 0.0000,\n",
              "          0.0000, 0.0000, 0.0000, 0.0000, 0.0000, 0.0000, 0.0000, 0.0000,\n",
              "          0.0000, 0.0000, 0.0000, 0.0000, 0.0000, 0.0000, 0.0000, 0.0000,\n",
              "          0.0000, 0.0000, 0.0000, 0.0000],\n",
              "         [0.0000, 0.0000, 0.0000, 0.0000, 0.0000, 0.0000, 0.0000, 0.0000,\n",
              "          0.0000, 0.0000, 0.0000, 0.0000, 0.0000, 0.0000, 0.0000, 0.0000,\n",
              "          0.0000, 0.0000, 0.0000, 0.0000, 0.0000, 0.0000, 0.0000, 0.0000,\n",
              "          0.0000, 0.0000, 0.0000, 0.0000],\n",
              "         [0.0000, 0.0000, 0.0000, 0.0000, 0.0000, 0.0000, 0.0000, 0.0000,\n",
              "          0.0000, 0.0000, 0.0000, 0.0000, 0.0000, 0.0000, 0.0000, 0.0000,\n",
              "          0.0000, 0.0000, 0.0000, 0.0000, 0.0000, 0.0000, 0.0000, 0.0000,\n",
              "          0.0000, 0.0000, 0.0000, 0.0000],\n",
              "         [0.0000, 0.0000, 0.0000, 0.0000, 0.0000, 0.0000, 0.0000, 0.0000,\n",
              "          0.0000, 0.0000, 0.0000, 0.0000, 0.0000, 0.0000, 0.0000, 0.0000,\n",
              "          0.0000, 0.0000, 0.0000, 0.0000, 0.0000, 0.0000, 0.0000, 0.0000,\n",
              "          0.0000, 0.0000, 0.0000, 0.0000],\n",
              "         [0.0000, 0.0000, 0.0000, 0.0000, 0.0000, 0.0000, 0.0000, 0.0000,\n",
              "          0.0000, 0.0000, 0.0000, 0.0000, 0.0118, 0.0706, 0.0706, 0.0706,\n",
              "          0.4941, 0.5333, 0.6863, 0.1020, 0.6510, 1.0000, 0.9686, 0.4980,\n",
              "          0.0000, 0.0000, 0.0000, 0.0000],\n",
              "         [0.0000, 0.0000, 0.0000, 0.0000, 0.0000, 0.0000, 0.0000, 0.0000,\n",
              "          0.1176, 0.1412, 0.3686, 0.6039, 0.6667, 0.9922, 0.9922, 0.9922,\n",
              "          0.9922, 0.9922, 0.8824, 0.6745, 0.9922, 0.9490, 0.7647, 0.2510,\n",
              "          0.0000, 0.0000, 0.0000, 0.0000],\n",
              "         [0.0000, 0.0000, 0.0000, 0.0000, 0.0000, 0.0000, 0.0000, 0.1922,\n",
              "          0.9333, 0.9922, 0.9922, 0.9922, 0.9922, 0.9922, 0.9922, 0.9922,\n",
              "          0.9922, 0.9843, 0.3647, 0.3216, 0.3216, 0.2196, 0.1529, 0.0000,\n",
              "          0.0000, 0.0000, 0.0000, 0.0000],\n",
              "         [0.0000, 0.0000, 0.0000, 0.0000, 0.0000, 0.0000, 0.0000, 0.0706,\n",
              "          0.8588, 0.9922, 0.9922, 0.9922, 0.9922, 0.9922, 0.7765, 0.7137,\n",
              "          0.9686, 0.9451, 0.0000, 0.0000, 0.0000, 0.0000, 0.0000, 0.0000,\n",
              "          0.0000, 0.0000, 0.0000, 0.0000],\n",
              "         [0.0000, 0.0000, 0.0000, 0.0000, 0.0000, 0.0000, 0.0000, 0.0000,\n",
              "          0.3137, 0.6118, 0.4196, 0.9922, 0.9922, 0.8039, 0.0431, 0.0000,\n",
              "          0.1686, 0.6039, 0.0000, 0.0000, 0.0000, 0.0000, 0.0000, 0.0000,\n",
              "          0.0000, 0.0000, 0.0000, 0.0000],\n",
              "         [0.0000, 0.0000, 0.0000, 0.0000, 0.0000, 0.0000, 0.0000, 0.0000,\n",
              "          0.0000, 0.0549, 0.0039, 0.6039, 0.9922, 0.3529, 0.0000, 0.0000,\n",
              "          0.0000, 0.0000, 0.0000, 0.0000, 0.0000, 0.0000, 0.0000, 0.0000,\n",
              "          0.0000, 0.0000, 0.0000, 0.0000],\n",
              "         [0.0000, 0.0000, 0.0000, 0.0000, 0.0000, 0.0000, 0.0000, 0.0000,\n",
              "          0.0000, 0.0000, 0.0000, 0.5451, 0.9922, 0.7451, 0.0078, 0.0000,\n",
              "          0.0000, 0.0000, 0.0000, 0.0000, 0.0000, 0.0000, 0.0000, 0.0000,\n",
              "          0.0000, 0.0000, 0.0000, 0.0000],\n",
              "         [0.0000, 0.0000, 0.0000, 0.0000, 0.0000, 0.0000, 0.0000, 0.0000,\n",
              "          0.0000, 0.0000, 0.0000, 0.0431, 0.7451, 0.9922, 0.2745, 0.0000,\n",
              "          0.0000, 0.0000, 0.0000, 0.0000, 0.0000, 0.0000, 0.0000, 0.0000,\n",
              "          0.0000, 0.0000, 0.0000, 0.0000],\n",
              "         [0.0000, 0.0000, 0.0000, 0.0000, 0.0000, 0.0000, 0.0000, 0.0000,\n",
              "          0.0000, 0.0000, 0.0000, 0.0000, 0.1373, 0.9451, 0.8824, 0.6275,\n",
              "          0.4235, 0.0039, 0.0000, 0.0000, 0.0000, 0.0000, 0.0000, 0.0000,\n",
              "          0.0000, 0.0000, 0.0000, 0.0000],\n",
              "         [0.0000, 0.0000, 0.0000, 0.0000, 0.0000, 0.0000, 0.0000, 0.0000,\n",
              "          0.0000, 0.0000, 0.0000, 0.0000, 0.0000, 0.3176, 0.9412, 0.9922,\n",
              "          0.9922, 0.4667, 0.0980, 0.0000, 0.0000, 0.0000, 0.0000, 0.0000,\n",
              "          0.0000, 0.0000, 0.0000, 0.0000],\n",
              "         [0.0000, 0.0000, 0.0000, 0.0000, 0.0000, 0.0000, 0.0000, 0.0000,\n",
              "          0.0000, 0.0000, 0.0000, 0.0000, 0.0000, 0.0000, 0.1765, 0.7294,\n",
              "          0.9922, 0.9922, 0.5882, 0.1059, 0.0000, 0.0000, 0.0000, 0.0000,\n",
              "          0.0000, 0.0000, 0.0000, 0.0000],\n",
              "         [0.0000, 0.0000, 0.0000, 0.0000, 0.0000, 0.0000, 0.0000, 0.0000,\n",
              "          0.0000, 0.0000, 0.0000, 0.0000, 0.0000, 0.0000, 0.0000, 0.0627,\n",
              "          0.3647, 0.9882, 0.9922, 0.7333, 0.0000, 0.0000, 0.0000, 0.0000,\n",
              "          0.0000, 0.0000, 0.0000, 0.0000],\n",
              "         [0.0000, 0.0000, 0.0000, 0.0000, 0.0000, 0.0000, 0.0000, 0.0000,\n",
              "          0.0000, 0.0000, 0.0000, 0.0000, 0.0000, 0.0000, 0.0000, 0.0000,\n",
              "          0.0000, 0.9765, 0.9922, 0.9765, 0.2510, 0.0000, 0.0000, 0.0000,\n",
              "          0.0000, 0.0000, 0.0000, 0.0000],\n",
              "         [0.0000, 0.0000, 0.0000, 0.0000, 0.0000, 0.0000, 0.0000, 0.0000,\n",
              "          0.0000, 0.0000, 0.0000, 0.0000, 0.0000, 0.0000, 0.1804, 0.5098,\n",
              "          0.7176, 0.9922, 0.9922, 0.8118, 0.0078, 0.0000, 0.0000, 0.0000,\n",
              "          0.0000, 0.0000, 0.0000, 0.0000],\n",
              "         [0.0000, 0.0000, 0.0000, 0.0000, 0.0000, 0.0000, 0.0000, 0.0000,\n",
              "          0.0000, 0.0000, 0.0000, 0.0000, 0.1529, 0.5804, 0.8980, 0.9922,\n",
              "          0.9922, 0.9922, 0.9804, 0.7137, 0.0000, 0.0000, 0.0000, 0.0000,\n",
              "          0.0000, 0.0000, 0.0000, 0.0000],\n",
              "         [0.0000, 0.0000, 0.0000, 0.0000, 0.0000, 0.0000, 0.0000, 0.0000,\n",
              "          0.0000, 0.0000, 0.0941, 0.4471, 0.8667, 0.9922, 0.9922, 0.9922,\n",
              "          0.9922, 0.7882, 0.3059, 0.0000, 0.0000, 0.0000, 0.0000, 0.0000,\n",
              "          0.0000, 0.0000, 0.0000, 0.0000],\n",
              "         [0.0000, 0.0000, 0.0000, 0.0000, 0.0000, 0.0000, 0.0000, 0.0000,\n",
              "          0.0902, 0.2588, 0.8353, 0.9922, 0.9922, 0.9922, 0.9922, 0.7765,\n",
              "          0.3176, 0.0078, 0.0000, 0.0000, 0.0000, 0.0000, 0.0000, 0.0000,\n",
              "          0.0000, 0.0000, 0.0000, 0.0000],\n",
              "         [0.0000, 0.0000, 0.0000, 0.0000, 0.0000, 0.0000, 0.0706, 0.6706,\n",
              "          0.8588, 0.9922, 0.9922, 0.9922, 0.9922, 0.7647, 0.3137, 0.0353,\n",
              "          0.0000, 0.0000, 0.0000, 0.0000, 0.0000, 0.0000, 0.0000, 0.0000,\n",
              "          0.0000, 0.0000, 0.0000, 0.0000],\n",
              "         [0.0000, 0.0000, 0.0000, 0.0000, 0.2157, 0.6745, 0.8863, 0.9922,\n",
              "          0.9922, 0.9922, 0.9922, 0.9569, 0.5216, 0.0431, 0.0000, 0.0000,\n",
              "          0.0000, 0.0000, 0.0000, 0.0000, 0.0000, 0.0000, 0.0000, 0.0000,\n",
              "          0.0000, 0.0000, 0.0000, 0.0000],\n",
              "         [0.0000, 0.0000, 0.0000, 0.0000, 0.5333, 0.9922, 0.9922, 0.9922,\n",
              "          0.8314, 0.5294, 0.5176, 0.0627, 0.0000, 0.0000, 0.0000, 0.0000,\n",
              "          0.0000, 0.0000, 0.0000, 0.0000, 0.0000, 0.0000, 0.0000, 0.0000,\n",
              "          0.0000, 0.0000, 0.0000, 0.0000],\n",
              "         [0.0000, 0.0000, 0.0000, 0.0000, 0.0000, 0.0000, 0.0000, 0.0000,\n",
              "          0.0000, 0.0000, 0.0000, 0.0000, 0.0000, 0.0000, 0.0000, 0.0000,\n",
              "          0.0000, 0.0000, 0.0000, 0.0000, 0.0000, 0.0000, 0.0000, 0.0000,\n",
              "          0.0000, 0.0000, 0.0000, 0.0000],\n",
              "         [0.0000, 0.0000, 0.0000, 0.0000, 0.0000, 0.0000, 0.0000, 0.0000,\n",
              "          0.0000, 0.0000, 0.0000, 0.0000, 0.0000, 0.0000, 0.0000, 0.0000,\n",
              "          0.0000, 0.0000, 0.0000, 0.0000, 0.0000, 0.0000, 0.0000, 0.0000,\n",
              "          0.0000, 0.0000, 0.0000, 0.0000],\n",
              "         [0.0000, 0.0000, 0.0000, 0.0000, 0.0000, 0.0000, 0.0000, 0.0000,\n",
              "          0.0000, 0.0000, 0.0000, 0.0000, 0.0000, 0.0000, 0.0000, 0.0000,\n",
              "          0.0000, 0.0000, 0.0000, 0.0000, 0.0000, 0.0000, 0.0000, 0.0000,\n",
              "          0.0000, 0.0000, 0.0000, 0.0000]]])"
            ]
          },
          "metadata": {},
          "execution_count": 16
        }
      ]
    },
    {
      "cell_type": "code",
      "source": [
        "x_0_tensor.device"
      ],
      "metadata": {
        "colab": {
          "base_uri": "https://localhost:8080/"
        },
        "id": "kIuMfFqDMUdi",
        "outputId": "a9622e29-7171-40d4-a65b-eaeba82b750b"
      },
      "execution_count": 17,
      "outputs": [
        {
          "output_type": "execute_result",
          "data": {
            "text/plain": [
              "device(type='cpu')"
            ]
          },
          "metadata": {},
          "execution_count": 17
        }
      ]
    },
    {
      "cell_type": "markdown",
      "source": [
        "## **Transforms**"
      ],
      "metadata": {
        "id": "Pucd3Sb9McsW"
      }
    },
    {
      "cell_type": "code",
      "source": [
        "trans = transforms.Compose([transforms.ToTensor()])"
      ],
      "metadata": {
        "id": "cWWRLLqxMZI9"
      },
      "execution_count": 18,
      "outputs": []
    },
    {
      "cell_type": "code",
      "source": [
        "train_set.transform = trans\n",
        "valid_set.transform = trans"
      ],
      "metadata": {
        "id": "nxdc0iZZMgNv"
      },
      "execution_count": 19,
      "outputs": []
    },
    {
      "cell_type": "markdown",
      "source": [
        "## **DataLoaders**"
      ],
      "metadata": {
        "id": "aJHN0FBnM9rs"
      }
    },
    {
      "cell_type": "code",
      "source": [
        "batch_size = 32\n",
        "\n",
        "train_loader = DataLoader(train_set, batch_size=batch_size, shuffle=True)\n",
        "valid_loader = DataLoader(valid_set, batch_size=batch_size)"
      ],
      "metadata": {
        "id": "8in-gtxwM7pm"
      },
      "execution_count": 20,
      "outputs": []
    },
    {
      "cell_type": "markdown",
      "source": [
        "## **Creating the Model**"
      ],
      "metadata": {
        "id": "MlxHVVvlNlxD"
      }
    },
    {
      "cell_type": "code",
      "source": [
        "layers = []\n",
        "layers"
      ],
      "metadata": {
        "colab": {
          "base_uri": "https://localhost:8080/"
        },
        "id": "knNWecLZNi35",
        "outputId": "e039c814-9c31-465c-f84c-dbe9930e2589"
      },
      "execution_count": 21,
      "outputs": [
        {
          "output_type": "execute_result",
          "data": {
            "text/plain": [
              "[]"
            ]
          },
          "metadata": {},
          "execution_count": 21
        }
      ]
    },
    {
      "cell_type": "markdown",
      "source": [
        "## **Flattening the Image**"
      ],
      "metadata": {
        "id": "2RV-uDXHN60w"
      }
    },
    {
      "cell_type": "code",
      "source": [
        "test_matrix = torch.tensor(\n",
        "    [[1, 2, 3],\n",
        "     [4, 5, 6],\n",
        "     [7, 8, 9]]\n",
        ")\n",
        "test_matrix"
      ],
      "metadata": {
        "colab": {
          "base_uri": "https://localhost:8080/"
        },
        "id": "kwgA5uBANscb",
        "outputId": "4ea5d650-5e17-4609-bf06-3cba0d29035a"
      },
      "execution_count": 22,
      "outputs": [
        {
          "output_type": "execute_result",
          "data": {
            "text/plain": [
              "tensor([[1, 2, 3],\n",
              "        [4, 5, 6],\n",
              "        [7, 8, 9]])"
            ]
          },
          "metadata": {},
          "execution_count": 22
        }
      ]
    },
    {
      "cell_type": "code",
      "source": [
        "nn.Flatten()(test_matrix)"
      ],
      "metadata": {
        "colab": {
          "base_uri": "https://localhost:8080/"
        },
        "id": "5joQ4i8BOARt",
        "outputId": "8eb28836-b80e-40b4-9003-a667fe35a7ee"
      },
      "execution_count": 23,
      "outputs": [
        {
          "output_type": "execute_result",
          "data": {
            "text/plain": [
              "tensor([[1, 2, 3],\n",
              "        [4, 5, 6],\n",
              "        [7, 8, 9]])"
            ]
          },
          "metadata": {},
          "execution_count": 23
        }
      ]
    },
    {
      "cell_type": "code",
      "source": [
        "batch_test_matrix = test_matrix[None, :]\n",
        "batch_test_matrix"
      ],
      "metadata": {
        "colab": {
          "base_uri": "https://localhost:8080/"
        },
        "id": "hhl-wVsLOo81",
        "outputId": "9fb63d48-94db-4d4a-8061-4e9720288816"
      },
      "execution_count": 24,
      "outputs": [
        {
          "output_type": "execute_result",
          "data": {
            "text/plain": [
              "tensor([[[1, 2, 3],\n",
              "         [4, 5, 6],\n",
              "         [7, 8, 9]]])"
            ]
          },
          "metadata": {},
          "execution_count": 24
        }
      ]
    },
    {
      "cell_type": "code",
      "source": [
        "nn.Flatten()(batch_test_matrix)"
      ],
      "metadata": {
        "colab": {
          "base_uri": "https://localhost:8080/"
        },
        "id": "1qtSQP4UOppo",
        "outputId": "2e6f21ed-c138-4d4e-a065-cbf9ecc4b3c9"
      },
      "execution_count": 25,
      "outputs": [
        {
          "output_type": "execute_result",
          "data": {
            "text/plain": [
              "tensor([[1, 2, 3, 4, 5, 6, 7, 8, 9]])"
            ]
          },
          "metadata": {},
          "execution_count": 25
        }
      ]
    },
    {
      "cell_type": "code",
      "source": [
        "nn.Flatten()(test_matrix[:, None])"
      ],
      "metadata": {
        "colab": {
          "base_uri": "https://localhost:8080/"
        },
        "id": "uvKl4X6VOswq",
        "outputId": "bb911ed5-a20a-4993-8bf4-ebb8e64ec7a1"
      },
      "execution_count": 26,
      "outputs": [
        {
          "output_type": "execute_result",
          "data": {
            "text/plain": [
              "tensor([[1, 2, 3],\n",
              "        [4, 5, 6],\n",
              "        [7, 8, 9]])"
            ]
          },
          "metadata": {},
          "execution_count": 26
        }
      ]
    },
    {
      "cell_type": "code",
      "source": [
        "layers = [\n",
        "    nn.Flatten()\n",
        "]\n",
        "layers"
      ],
      "metadata": {
        "colab": {
          "base_uri": "https://localhost:8080/"
        },
        "id": "QSC-VoBOOwE3",
        "outputId": "82ec235a-f807-4863-bb2d-4d4dcb188302"
      },
      "execution_count": 27,
      "outputs": [
        {
          "output_type": "execute_result",
          "data": {
            "text/plain": [
              "[Flatten(start_dim=1, end_dim=-1)]"
            ]
          },
          "metadata": {},
          "execution_count": 27
        }
      ]
    },
    {
      "cell_type": "markdown",
      "source": [
        "## **The Input Layer**"
      ],
      "metadata": {
        "id": "ycvSy60oO3ch"
      }
    },
    {
      "cell_type": "code",
      "source": [
        "input_size = 1 * 28 * 28"
      ],
      "metadata": {
        "id": "MtAgbVKPOzyF"
      },
      "execution_count": 28,
      "outputs": []
    },
    {
      "cell_type": "code",
      "source": [
        "layers = [\n",
        "    nn.Flatten(),\n",
        "    nn.Linear(input_size, 512),  # Input\n",
        "    nn.ReLU(),  # Activation for input\n",
        "]\n",
        "layers"
      ],
      "metadata": {
        "colab": {
          "base_uri": "https://localhost:8080/"
        },
        "id": "C0feZD3BO-YO",
        "outputId": "def2817f-914f-4262-cee9-6a681b1e8943"
      },
      "execution_count": 29,
      "outputs": [
        {
          "output_type": "execute_result",
          "data": {
            "text/plain": [
              "[Flatten(start_dim=1, end_dim=-1),\n",
              " Linear(in_features=784, out_features=512, bias=True),\n",
              " ReLU()]"
            ]
          },
          "metadata": {},
          "execution_count": 29
        }
      ]
    },
    {
      "cell_type": "markdown",
      "source": [
        "## **The Hidden Layer**"
      ],
      "metadata": {
        "id": "qE1N78FrPGnW"
      }
    },
    {
      "cell_type": "code",
      "source": [
        "layers = [\n",
        "    nn.Flatten(),\n",
        "    nn.Linear(input_size, 512),  # Input\n",
        "    nn.ReLU(),  # Activation for input\n",
        "    nn.Linear(512, 512),  # Hidden\n",
        "    nn.ReLU()  # Activation for hidden\n",
        "]\n",
        "layers"
      ],
      "metadata": {
        "colab": {
          "base_uri": "https://localhost:8080/"
        },
        "id": "y7Hp3ihOPKyb",
        "outputId": "686b70b6-eda3-4489-9dd4-671837e49a50"
      },
      "execution_count": 30,
      "outputs": [
        {
          "output_type": "execute_result",
          "data": {
            "text/plain": [
              "[Flatten(start_dim=1, end_dim=-1),\n",
              " Linear(in_features=784, out_features=512, bias=True),\n",
              " ReLU(),\n",
              " Linear(in_features=512, out_features=512, bias=True),\n",
              " ReLU()]"
            ]
          },
          "metadata": {},
          "execution_count": 30
        }
      ]
    },
    {
      "cell_type": "markdown",
      "source": [
        "## **The Output Layer**"
      ],
      "metadata": {
        "id": "EpoIoujoPWZz"
      }
    },
    {
      "cell_type": "code",
      "source": [
        "n_classes = 10\n",
        "\n",
        "layers = [\n",
        "    nn.Flatten(),\n",
        "    nn.Linear(input_size, 512),  # Input\n",
        "    nn.ReLU(),  # Activation for input\n",
        "    nn.Linear(512, 512),  # Hidden\n",
        "    nn.ReLU(),  # Activation for hidden\n",
        "    nn.Linear(512, n_classes)  # Output\n",
        "]\n",
        "layers"
      ],
      "metadata": {
        "colab": {
          "base_uri": "https://localhost:8080/"
        },
        "id": "42EpxepQPOhk",
        "outputId": "4c7178fc-72dc-4642-ed33-d59a3fd87b47"
      },
      "execution_count": 31,
      "outputs": [
        {
          "output_type": "execute_result",
          "data": {
            "text/plain": [
              "[Flatten(start_dim=1, end_dim=-1),\n",
              " Linear(in_features=784, out_features=512, bias=True),\n",
              " ReLU(),\n",
              " Linear(in_features=512, out_features=512, bias=True),\n",
              " ReLU(),\n",
              " Linear(in_features=512, out_features=10, bias=True)]"
            ]
          },
          "metadata": {},
          "execution_count": 31
        }
      ]
    },
    {
      "cell_type": "markdown",
      "source": [
        "## **Compiling the Model**"
      ],
      "metadata": {
        "id": "julXKPErQK10"
      }
    },
    {
      "cell_type": "code",
      "source": [
        "model = nn.Sequential(*layers)\n",
        "model"
      ],
      "metadata": {
        "colab": {
          "base_uri": "https://localhost:8080/"
        },
        "id": "IU__3IBwQGFD",
        "outputId": "e2d018d3-fc72-4c24-bd5b-2dfda739f4ef"
      },
      "execution_count": 32,
      "outputs": [
        {
          "output_type": "execute_result",
          "data": {
            "text/plain": [
              "Sequential(\n",
              "  (0): Flatten(start_dim=1, end_dim=-1)\n",
              "  (1): Linear(in_features=784, out_features=512, bias=True)\n",
              "  (2): ReLU()\n",
              "  (3): Linear(in_features=512, out_features=512, bias=True)\n",
              "  (4): ReLU()\n",
              "  (5): Linear(in_features=512, out_features=10, bias=True)\n",
              ")"
            ]
          },
          "metadata": {},
          "execution_count": 32
        }
      ]
    },
    {
      "cell_type": "code",
      "source": [
        "model.to(device)"
      ],
      "metadata": {
        "colab": {
          "base_uri": "https://localhost:8080/"
        },
        "id": "enQcaYaIQQ3c",
        "outputId": "785bdadb-a5c5-4073-f9a2-506636981fe5"
      },
      "execution_count": 33,
      "outputs": [
        {
          "output_type": "execute_result",
          "data": {
            "text/plain": [
              "Sequential(\n",
              "  (0): Flatten(start_dim=1, end_dim=-1)\n",
              "  (1): Linear(in_features=784, out_features=512, bias=True)\n",
              "  (2): ReLU()\n",
              "  (3): Linear(in_features=512, out_features=512, bias=True)\n",
              "  (4): ReLU()\n",
              "  (5): Linear(in_features=512, out_features=10, bias=True)\n",
              ")"
            ]
          },
          "metadata": {},
          "execution_count": 33
        }
      ]
    },
    {
      "cell_type": "code",
      "source": [
        "next(model.parameters()).device"
      ],
      "metadata": {
        "colab": {
          "base_uri": "https://localhost:8080/"
        },
        "id": "VWzmlJJiQUbN",
        "outputId": "207c44a4-84f1-48ef-80ab-156080d52bf0"
      },
      "execution_count": 34,
      "outputs": [
        {
          "output_type": "execute_result",
          "data": {
            "text/plain": [
              "device(type='cpu')"
            ]
          },
          "metadata": {},
          "execution_count": 34
        }
      ]
    },
    {
      "cell_type": "code",
      "source": [
        "model = torch.compile(model)"
      ],
      "metadata": {
        "id": "65VYxQphYtd_"
      },
      "execution_count": 35,
      "outputs": []
    },
    {
      "cell_type": "markdown",
      "source": [
        "## **Training the Model**\n",
        " Loss and Optimization"
      ],
      "metadata": {
        "id": "oherekNMYyXr"
      }
    },
    {
      "cell_type": "code",
      "source": [
        "loss_function = nn.CrossEntropyLoss()"
      ],
      "metadata": {
        "id": "uFD4tyFlYwMo"
      },
      "execution_count": 36,
      "outputs": []
    },
    {
      "cell_type": "code",
      "source": [
        "optimizer = Adam(model.parameters())"
      ],
      "metadata": {
        "id": "cDmMDHV3Y9zL"
      },
      "execution_count": 37,
      "outputs": []
    },
    {
      "cell_type": "markdown",
      "source": [
        "## **Calculating Accuracy**"
      ],
      "metadata": {
        "id": "J_y3mtIEZCMO"
      }
    },
    {
      "cell_type": "code",
      "source": [
        "train_N = len(train_loader.dataset)\n",
        "valid_N = len(valid_loader.dataset)"
      ],
      "metadata": {
        "id": "rRuSSXABZAO8"
      },
      "execution_count": 38,
      "outputs": []
    },
    {
      "cell_type": "code",
      "source": [
        "def get_batch_accuracy(output, y, N):\n",
        "    pred = output.argmax(dim=1, keepdim=True)\n",
        "    correct = pred.eq(y.view_as(pred)).sum().item()\n",
        "    return correct / N"
      ],
      "metadata": {
        "id": "YSao-BHqZJnc"
      },
      "execution_count": 39,
      "outputs": []
    },
    {
      "cell_type": "markdown",
      "source": [
        "## **The Train Function**"
      ],
      "metadata": {
        "id": "SQXmE9R5ZO00"
      }
    },
    {
      "cell_type": "code",
      "source": [
        "def train():\n",
        "    loss = 0\n",
        "    accuracy = 0\n",
        "\n",
        "    model.train()\n",
        "    for x, y in train_loader:\n",
        "        x, y = x.to(device), y.to(device)\n",
        "        output = model(x)\n",
        "        optimizer.zero_grad()\n",
        "        batch_loss = loss_function(output, y)\n",
        "        batch_loss.backward()\n",
        "        optimizer.step()\n",
        "\n",
        "        loss += batch_loss.item()\n",
        "        accuracy += get_batch_accuracy(output, y, train_N)\n",
        "    print('Train - Loss: {:.4f} Accuracy: {:.4f}'.format(loss, accuracy))"
      ],
      "metadata": {
        "id": "U9Dl4rcyZM1A"
      },
      "execution_count": 40,
      "outputs": []
    },
    {
      "cell_type": "markdown",
      "source": [
        "## **The Validate Function**"
      ],
      "metadata": {
        "id": "OCslO_YMZbwx"
      }
    },
    {
      "cell_type": "code",
      "source": [
        "def validate():\n",
        "    loss = 0\n",
        "    accuracy = 0\n",
        "\n",
        "    model.eval()\n",
        "    with torch.no_grad():\n",
        "        for x, y in valid_loader:\n",
        "            x, y = x.to(device), y.to(device)\n",
        "            output = model(x)\n",
        "\n",
        "            loss += loss_function(output, y).item()\n",
        "            accuracy += get_batch_accuracy(output, y, valid_N)\n",
        "    print('Valid - Loss: {:.4f} Accuracy: {:.4f}'.format(loss, accuracy))"
      ],
      "metadata": {
        "id": "DlTMPOU1ZZYP"
      },
      "execution_count": 41,
      "outputs": []
    },
    {
      "cell_type": "markdown",
      "source": [
        "## **The Training Loop**"
      ],
      "metadata": {
        "id": "JRNE3BZMZk9N"
      }
    },
    {
      "cell_type": "code",
      "source": [
        "epochs = 5\n",
        "\n",
        "for epoch in range(epochs):\n",
        "    print('Epoch: {}'.format(epoch))\n",
        "    train()\n",
        "    validate()"
      ],
      "metadata": {
        "colab": {
          "base_uri": "https://localhost:8080/"
        },
        "id": "jmWJsa9fZitY",
        "outputId": "e3df987f-e30d-4ad9-dcb1-225a586d48a6"
      },
      "execution_count": 42,
      "outputs": [
        {
          "output_type": "stream",
          "name": "stdout",
          "text": [
            "Epoch: 0\n"
          ]
        },
        {
          "output_type": "stream",
          "name": "stderr",
          "text": [
            "No CUDA runtime is found, using CUDA_HOME='/usr/local/cuda'\n"
          ]
        },
        {
          "output_type": "stream",
          "name": "stdout",
          "text": [
            "Train - Loss: 382.4660 Accuracy: 0.9374\n",
            "Valid - Loss: 39.0943 Accuracy: 0.9619\n",
            "Epoch: 1\n",
            "Train - Loss: 158.7657 Accuracy: 0.9736\n",
            "Valid - Loss: 24.9050 Accuracy: 0.9748\n",
            "Epoch: 2\n",
            "Train - Loss: 108.0548 Accuracy: 0.9820\n",
            "Valid - Loss: 27.5611 Accuracy: 0.9749\n",
            "Epoch: 3\n",
            "Train - Loss: 84.5905 Accuracy: 0.9856\n",
            "Valid - Loss: 23.2948 Accuracy: 0.9774\n",
            "Epoch: 4\n",
            "Train - Loss: 64.4318 Accuracy: 0.9886\n",
            "Valid - Loss: 33.8840 Accuracy: 0.9720\n"
          ]
        }
      ]
    },
    {
      "cell_type": "code",
      "source": [
        "import torch\n",
        "\n",
        "# Example: Get a single batch from your DataLoader\n",
        "x_0, y_0 = next(iter(valid_loader))  # or train_loader\n",
        "\n",
        "# Move the input to the same device as the model\n",
        "x_0_gpu = x_0.to(device)\n",
        "\n",
        "# Ensure model is in evaluation mode\n",
        "model.eval()\n",
        "\n",
        "# Predict without tracking gradients\n",
        "with torch.no_grad():\n",
        "    prediction = model(x_0_gpu)\n",
        "    print(prediction)"
      ],
      "metadata": {
        "colab": {
          "base_uri": "https://localhost:8080/"
        },
        "id": "T66stFzPZqdh",
        "outputId": "ee5f28db-3608-4046-e316-b9bdba815cca"
      },
      "execution_count": 44,
      "outputs": [
        {
          "output_type": "stream",
          "name": "stdout",
          "text": [
            "tensor([[-1.6206e+01, -1.3217e+00, -6.0522e+00, -9.9033e+00, -8.8599e+00,\n",
            "         -1.1401e+01, -2.1334e+01,  1.6092e+01, -7.0489e+00, -1.7038e+00],\n",
            "        [-1.5740e+01, -1.6465e+00,  1.3277e+01, -9.9128e+00, -1.1478e+01,\n",
            "         -9.6475e+00, -5.2566e+00, -6.9831e+00, -2.9122e+00, -1.9561e+01],\n",
            "        [-1.3586e+01,  1.1119e+01, -3.0512e+00, -1.6206e+01, -4.3482e+00,\n",
            "         -8.0730e+00, -5.1293e+00, -2.5928e+00, -5.5682e+00, -9.2868e+00],\n",
            "        [ 9.0212e+00, -1.0204e+01, -5.7612e+00, -1.3103e+01, -4.1977e+00,\n",
            "         -6.2799e+00, -3.0779e+00, -7.5861e+00, -5.0003e+00, -2.2419e+00],\n",
            "        [-8.5186e+00, -6.6493e+00, -1.4649e+00, -1.3358e+01,  8.8424e+00,\n",
            "         -8.3190e+00, -1.1406e+01, -2.4052e+00, -9.7118e+00,  4.8232e-04],\n",
            "        [-1.4718e+01,  1.2391e+01, -6.8045e+00, -1.9281e+01, -3.3975e+00,\n",
            "         -1.2269e+01, -9.0837e+00, -2.9588e+00, -6.0227e+00, -9.4018e+00],\n",
            "        [-1.5992e+01, -6.1610e+00, -9.7591e+00, -1.7228e+01,  1.2783e+01,\n",
            "         -1.1551e+01, -1.2354e+01, -6.8824e+00, -9.5792e-02, -1.3059e-01],\n",
            "        [-1.3109e+01, -7.1103e+00, -2.0243e+00, -3.4568e+00, -1.5556e+00,\n",
            "         -4.5290e+00, -1.9621e+01, -4.4235e+00, -7.4896e+00,  7.1229e+00],\n",
            "        [-1.6493e+01, -1.5936e+01, -3.8578e+00, -1.1849e+01, -5.9081e+00,\n",
            "          7.9056e+00,  5.4286e+00, -2.1093e+01, -7.5697e-01, -4.4941e+00],\n",
            "        [-2.0908e+01, -1.3520e+01, -1.3110e+01, -1.1965e+01, -1.0780e+00,\n",
            "         -1.2608e+01, -2.6505e+01, -1.8417e+00, -4.3769e+00,  1.6327e+01],\n",
            "        [ 1.3993e+01, -1.6501e+01, -5.0672e+00, -1.4671e+01, -8.0038e+00,\n",
            "         -9.7742e+00, -4.4587e+00, -7.5440e+00, -1.1895e+01, -2.9318e+00],\n",
            "        [-3.3044e+00, -9.3889e+00, -8.1399e+00, -9.2686e+00, -2.0326e+00,\n",
            "          8.6907e-01,  6.7532e+00, -9.5153e+00, -3.8490e-01, -1.0096e+01],\n",
            "        [-1.6301e+01, -1.3259e+01, -6.0499e+00, -5.1628e+00, -5.4004e+00,\n",
            "         -5.3334e+00, -2.1341e+01, -8.4287e+00, -3.6875e+00,  1.1941e+01],\n",
            "        [ 1.2898e+01, -1.5961e+01, -7.4210e+00, -1.6473e+01, -1.1407e+01,\n",
            "         -6.1506e+00, -3.9776e+00, -9.1281e+00, -2.3529e+00, -5.8902e+00],\n",
            "        [-1.8180e+01,  1.3070e+01, -8.7507e+00, -1.9156e+01, -2.0263e+00,\n",
            "         -1.1326e+01, -1.1236e+01, -7.7263e+00, -2.4408e+00, -7.1777e+00],\n",
            "        [-1.8322e+01, -6.0162e+00, -1.2982e+01,  7.2806e-01, -1.2067e+01,\n",
            "          1.5338e+01, -1.4250e+01, -8.2893e+00, -7.9965e+00, -5.5700e+00],\n",
            "        [-9.5902e+00, -1.2129e+01, -4.3334e+00, -9.3130e+00, -4.8896e+00,\n",
            "         -1.5224e+01, -1.9666e+01, -5.1014e-01, -6.3604e+00,  1.2352e+01],\n",
            "        [-1.5175e+01, -8.9420e-01, -6.4005e+00, -1.0883e+01, -9.3720e+00,\n",
            "         -1.0573e+01, -2.1089e+01,  1.6840e+01, -8.8602e+00, -2.8487e+00],\n",
            "        [-1.2555e+01, -4.5867e+00, -4.1696e+00,  6.1643e+00, -7.7096e+00,\n",
            "         -2.5570e+00, -1.1309e+01, -3.7801e+00,  2.5069e+00, -7.4516e+00],\n",
            "        [-1.2957e+01, -7.0486e+00, -5.0951e+00, -1.6436e+01,  1.3800e+01,\n",
            "         -8.7294e+00, -1.2503e+01, -6.9612e+00, -1.1788e+01, -4.4472e+00],\n",
            "        [-1.4737e+01, -8.9864e+00, -1.1655e+01, -7.4297e+00, -6.7591e+00,\n",
            "         -5.4186e+00, -2.3391e+01, -1.0901e+00, -3.0069e+00,  1.2461e+01],\n",
            "        [-9.1753e+00, -1.7795e+01, -1.3334e+01, -9.7504e+00, -5.4139e+00,\n",
            "          6.9180e+00,  8.8170e+00, -1.8571e+01, -1.6081e+00, -1.0193e+01],\n",
            "        [-4.7969e+00, -1.3337e+01, -1.2090e+01, -1.1561e+01, -4.9387e+00,\n",
            "         -7.0142e-02,  1.1315e+01, -1.2978e+01, -1.5070e+00, -1.5330e+01],\n",
            "        [-3.1122e+01, -1.8387e+01, -2.1700e+01, -3.9767e+00, -1.7202e+01,\n",
            "          2.5410e+01, -1.2245e+01, -2.6877e+01, -6.3346e+00, -4.9076e+00],\n",
            "        [-6.9527e+00, -6.8470e+00, -4.6474e+00, -1.1348e+01,  6.9816e+00,\n",
            "         -6.7010e+00, -9.2183e+00, -2.2944e-01, -8.9599e+00,  4.0032e-01],\n",
            "        [ 9.6705e+00, -1.8723e+01, -6.0035e+00, -1.4720e+01, -5.4500e-01,\n",
            "         -1.2154e+01, -2.3940e+00, -1.0883e+01, -6.3710e+00, -1.2248e+00],\n",
            "        [-1.3254e+01, -8.4057e+00, -3.4821e+00, -6.2214e+00, -1.4416e+01,\n",
            "         -6.6520e+00, -2.5205e+01,  1.3228e+01, -1.0334e+01,  3.2755e+00],\n",
            "        [-1.4549e+01, -7.9875e+00, -9.2330e-01, -1.3946e+01,  1.4233e+01,\n",
            "         -5.4209e+00, -1.5320e+01, -8.2248e+00, -1.3606e+01, -6.2197e+00],\n",
            "        [ 1.5151e+01, -1.9143e+01, -6.0378e+00, -1.9451e+01, -1.3801e+01,\n",
            "         -7.7066e+00, -5.3473e+00, -1.2334e+01, -4.5279e+00, -6.6232e+00],\n",
            "        [-1.6519e+01,  9.7598e+00, -6.1311e+00, -1.4279e+01,  1.0753e+00,\n",
            "         -9.0661e+00, -9.6492e+00, -4.5195e+00, -5.0822e-01, -8.7379e+00],\n",
            "        [-2.5233e+01, -8.3290e+00, -1.1231e+01,  1.5939e+01, -1.6746e+01,\n",
            "         -2.1152e+00, -3.3283e+01, -2.9884e+00, -7.4813e+00, -6.3098e+00],\n",
            "        [-1.3464e+01,  8.6966e+00, -6.6008e+00, -1.3379e+01,  9.7352e-01,\n",
            "         -9.4809e+00, -1.0693e+01, -2.5836e+00, -1.6049e+00, -4.8582e+00]])\n"
          ]
        }
      ]
    },
    {
      "cell_type": "code",
      "source": [
        "prediction.argmax(dim=1, keepdim=True)"
      ],
      "metadata": {
        "colab": {
          "base_uri": "https://localhost:8080/"
        },
        "id": "BZzHYGV9Zsyy",
        "outputId": "eab5b353-6771-4d4c-cb69-fb8c9430f251"
      },
      "execution_count": 45,
      "outputs": [
        {
          "output_type": "execute_result",
          "data": {
            "text/plain": [
              "tensor([[7],\n",
              "        [2],\n",
              "        [1],\n",
              "        [0],\n",
              "        [4],\n",
              "        [1],\n",
              "        [4],\n",
              "        [9],\n",
              "        [5],\n",
              "        [9],\n",
              "        [0],\n",
              "        [6],\n",
              "        [9],\n",
              "        [0],\n",
              "        [1],\n",
              "        [5],\n",
              "        [9],\n",
              "        [7],\n",
              "        [3],\n",
              "        [4],\n",
              "        [9],\n",
              "        [6],\n",
              "        [6],\n",
              "        [5],\n",
              "        [4],\n",
              "        [0],\n",
              "        [7],\n",
              "        [4],\n",
              "        [0],\n",
              "        [1],\n",
              "        [3],\n",
              "        [1]])"
            ]
          },
          "metadata": {},
          "execution_count": 45
        }
      ]
    },
    {
      "cell_type": "code",
      "source": [
        "y_0"
      ],
      "metadata": {
        "colab": {
          "base_uri": "https://localhost:8080/"
        },
        "id": "T3B0b5W5ZybZ",
        "outputId": "045b8f2f-7283-42a3-8ff1-ea76a33ffa67"
      },
      "execution_count": 46,
      "outputs": [
        {
          "output_type": "execute_result",
          "data": {
            "text/plain": [
              "tensor([7, 2, 1, 0, 4, 1, 4, 9, 5, 9, 0, 6, 9, 0, 1, 5, 9, 7, 3, 4, 9, 6, 6, 5,\n",
              "        4, 0, 7, 4, 0, 1, 3, 1])"
            ]
          },
          "metadata": {},
          "execution_count": 46
        }
      ]
    },
    {
      "cell_type": "code",
      "source": [],
      "metadata": {
        "id": "5prXztqLZyU9"
      },
      "execution_count": 46,
      "outputs": []
    }
  ]
}